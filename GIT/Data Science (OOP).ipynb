{
 "cells": [
  {
   "cell_type": "code",
   "execution_count": null,
   "id": "28c8d97e",
   "metadata": {},
   "outputs": [],
   "source": [
    "# Name: Sreeya Swain\n",
    "# Program: BCA-SY"
   ]
  },
  {
   "cell_type": "code",
   "execution_count": 1,
   "id": "b872610c",
   "metadata": {},
   "outputs": [
    {
     "name": "stdout",
     "output_type": "stream",
     "text": [
      "HELLO WORLD\n"
     ]
    }
   ],
   "source": [
    "print(\"HELLO WORLD\")"
   ]
  },
  {
   "cell_type": "code",
   "execution_count": 2,
   "id": "22227c46",
   "metadata": {},
   "outputs": [
    {
     "name": "stdout",
     "output_type": "stream",
     "text": [
      "2401\n"
     ]
    }
   ],
   "source": [
    "result = 7 ** 4\n",
    "print(result)\n"
   ]
  },
  {
   "cell_type": "code",
   "execution_count": 3,
   "id": "235c2dc1",
   "metadata": {},
   "outputs": [
    {
     "name": "stdout",
     "output_type": "stream",
     "text": [
      "['Hi', 'there', 'Sam!']\n"
     ]
    }
   ],
   "source": [
    "s = \"Hi there Sam!\"\n",
    "word_list = s.split()\n",
    "print(word_list)"
   ]
  },
  {
   "cell_type": "code",
   "execution_count": 4,
   "id": "7144a1d0",
   "metadata": {},
   "outputs": [
    {
     "name": "stdout",
     "output_type": "stream",
     "text": [
      "The diameter of Earth is 12742 kilometers.\n"
     ]
    }
   ],
   "source": [
    "planet = \"Earth\"\n",
    "diameter = 12742\n",
    "output_string = \"The diameter of {} is {} kilometers.\".format(planet, diameter)\n",
    "print(output_string)\n"
   ]
  },
  {
   "cell_type": "code",
   "execution_count": 5,
   "id": "a7f7c41f",
   "metadata": {},
   "outputs": [
    {
     "name": "stdout",
     "output_type": "stream",
     "text": [
      "hello\n"
     ]
    }
   ],
   "source": [
    "lst = [1, 2, [3, 4], [5, [100, 200, ['hello']], 23, 11], 1, 7]\n",
    "hello_word = lst[3][1][2][0]\n",
    "print(hello_word)"
   ]
  },
  {
   "cell_type": "code",
   "execution_count": 6,
   "id": "1e76d224",
   "metadata": {},
   "outputs": [
    {
     "name": "stdout",
     "output_type": "stream",
     "text": [
      "hello\n"
     ]
    }
   ],
   "source": [
    "d = {'k1': [1, 2, 3, {'tricky': ['oh', 'man', 'inception', {'target': [1, 2, 3, 'hello']}]}]}\n",
    "hello_word = d['k1'][3]['tricky'][3]['target'][3]\n",
    "print(hello_word)\n"
   ]
  },
  {
   "cell_type": "code",
   "execution_count": 7,
   "id": "b984dc24",
   "metadata": {},
   "outputs": [
    {
     "name": "stdout",
     "output_type": "stream",
     "text": [
      "[10, 2, 3]\n"
     ]
    }
   ],
   "source": [
    "# List (mutable)\n",
    "my_list = [1, 2, 3]\n",
    "my_list[0] = 10 \n",
    "print(my_list) \n",
    "\n",
    "# Tuple (immutable)\n",
    "my_tuple = (1, 2, 3)\n"
   ]
  },
  {
   "cell_type": "code",
   "execution_count": 8,
   "id": "874dea5d",
   "metadata": {},
   "outputs": [
    {
     "name": "stdin",
     "output_type": "stream",
     "text": [
      "Enter your email address:  sreeyaswain@gmail.com\n"
     ]
    },
    {
     "name": "stdout",
     "output_type": "stream",
     "text": [
      "Domain: gmail.com\n"
     ]
    }
   ],
   "source": [
    "def extract_domain(email):\n",
    "    user,domain = email.split('@')\n",
    "\n",
    "    return domain\n",
    "\n",
    "demo = input(\"Enter your email address: \")\n",
    "result = extract_domain(demo)\n",
    "\n",
    "print(\"Domain:\", result)"
   ]
  },
  {
   "cell_type": "code",
   "execution_count": 9,
   "id": "a5ec0de0",
   "metadata": {},
   "outputs": [
    {
     "name": "stdout",
     "output_type": "stream",
     "text": [
      "True\n"
     ]
    }
   ],
   "source": [
    "def findDog(input_str):\n",
    "    input_str_lower = input_str.lower()\n",
    "    target_word = 'dog'\n",
    "    \n",
    "    return target_word in input_str_lower\n",
    "input_string = 'Is there a dog here?'\n",
    "result = findDog(input_string)\n",
    "print(result)"
   ]
  },
  {
   "cell_type": "code",
   "execution_count": 10,
   "id": "900c5c19",
   "metadata": {},
   "outputs": [
    {
     "name": "stdout",
     "output_type": "stream",
     "text": [
      "['soup', 'salad', 'sun', 'surf']\n"
     ]
    }
   ],
   "source": [
    "seq = ['soup', 'dog', 'salad', 'cat', 'great',\"sun\",'surf']\n",
    "\n",
    "filtered_seq =list(filter(lambda word: word.startswith('s'), seq))\n",
    "\n",
    "print(filtered_seq)"
   ]
  },
  {
   "cell_type": "code",
   "execution_count": 11,
   "id": "a4ffce86",
   "metadata": {},
   "outputs": [
    {
     "name": "stdout",
     "output_type": "stream",
     "text": [
      "Regular speed: Small Ticket\n",
      "Birthday speed: Small Ticket\n"
     ]
    }
   ],
   "source": [
    "def check_speed(speed, is_birthday):\n",
    "    if is_birthday:\n",
    "        speed -= 5\n",
    "\n",
    "    if speed <= 60:\n",
    "        return \"No Ticket\"\n",
    "    elif 61 <= speed <= 80:\n",
    "        return \"Small Ticket\"\n",
    "    else:\n",
    "        return \"Big Ticket\"\n",
    "\n",
    "regular_speed = 70\n",
    "birthday_speed = 85\n",
    "\n",
    "print(\"Regular speed:\", check_speed(regular_speed, False))\n",
    "print(\"Birthday speed:\", check_speed(birthday_speed, True))"
   ]
  },
  {
   "cell_type": "code",
   "execution_count": 12,
   "id": "a9a168bf",
   "metadata": {},
   "outputs": [
    {
     "name": "stdin",
     "output_type": "stream",
     "text": [
      "Enter Roll No:  22000280\n",
      "Enter Student Name:  Sreeya\n",
      "Enter Physics Marks (out of 100):  90\n",
      "Enter Chemistry Marks (out of 100):  80\n",
      "Enter Maths Marks (out of 100):  90\n"
     ]
    },
    {
     "name": "stdout",
     "output_type": "stream",
     "text": [
      "\n",
      "Student Details:\n",
      "Roll No: 22000280\n",
      "Name: Sreeya\n",
      "\n",
      "Subject-wise Marks:\n",
      "Physics: 90.0\n",
      "Chemistry: 80.0\n",
      "Maths: 90.0\n",
      "\n",
      "Total Marks: 260.0\n",
      "Percentage: 86.66666666666667\n",
      "Status: PASS\n",
      "Grade: DISTINCTION\n"
     ]
    }
   ],
   "source": [
    "def grade(per):\n",
    "    if per > 70:\n",
    "        return \"DISTINCTION\"\n",
    "    elif per > 60:\n",
    "        return \"FIRST CLASS\"\n",
    "    elif per > 50:\n",
    "        return \"SECOND CLASS\"\n",
    "    elif per > 40:\n",
    "        return \"PASS CLASS\"\n",
    "    else:\n",
    "        return \"FAIL\"\n",
    "\n",
    "def status(physics, chemistry, maths):\n",
    "    if physics >= 40 and chemistry >= 40 and maths >= 40:\n",
    "        return \"PASS\"\n",
    "    else:\n",
    "        return \"FAIL\"\n",
    "\n",
    "def main():\n",
    "    roll_no = input(\"Enter Roll No: \")\n",
    "    student_name = input(\"Enter Student Name: \")\n",
    "    physics_marks = float(input(\"Enter Physics Marks (out of 100): \"))\n",
    "    chemistry_marks = float(input(\"Enter Chemistry Marks (out of 100): \"))\n",
    "    maths_marks = float(input(\"Enter Maths Marks (out of 100): \"))\n",
    "\n",
    "    total_marks = physics_marks + chemistry_marks + maths_marks\n",
    "    per = (total_marks / 300) * 100\n",
    "    s = status(physics_marks, chemistry_marks, maths_marks)\n",
    "    if s == \"PASS\":\n",
    "        g = grade(per)\n",
    "    else:\n",
    "        g = \"N/A\"\n",
    "    print(\"\\nStudent Details:\")\n",
    "    print(\"Roll No:\", roll_no)\n",
    "    print(\"Name:\", student_name)\n",
    "    print(\"\\nSubject-wise Marks:\")\n",
    "    print(\"Physics:\", physics_marks)\n",
    "    print(\"Chemistry:\", chemistry_marks)\n",
    "    print(\"Maths:\", maths_marks)\n",
    "    print(\"\\nTotal Marks:\", total_marks)\n",
    "    print(\"Percentage:\", per)\n",
    "    print(\"Status:\", s)\n",
    "    print(\"Grade:\", g)\n",
    "if __name__ == \"__main__\":\n",
    "    main()\n"
   ]
  },
  {
   "cell_type": "code",
   "execution_count": 13,
   "id": "ba358e73",
   "metadata": {},
   "outputs": [
    {
     "name": "stdin",
     "output_type": "stream",
     "text": [
      "Enter Employee ID:  2682004\n",
      "Enter Employee Name:  suki\n",
      "Enter Basic Salary:  20000\n",
      "Enter Years of Experience:  3\n"
     ]
    },
    {
     "name": "stdout",
     "output_type": "stream",
     "text": [
      "\n",
      "Employee Details:\n",
      "Employee ID: 2682004\n",
      "Name: suki\n",
      "Basic Salary: 20000.0\n",
      "Years of Experience: 3\n",
      "\n",
      "Calculated Components:\n",
      "HRA: 7000.0\n",
      "DA: 11600.0\n",
      "PF: 1900.0\n",
      "Bonus: 3200.0\n",
      "\n",
      "Net Salary: 39900.0\n"
     ]
    }
   ],
   "source": [
    "class Employee:\n",
    "    def __init__(self, empid, name, basic_salary, experience_years):\n",
    "        self.empid = empid\n",
    "        self.name = name\n",
    "        self.basic_salary = basic_salary\n",
    "        self.experience_years = experience_years\n",
    "\n",
    "        self.hra = 0\n",
    "        self.da = 0\n",
    "        self.pf = 0\n",
    "        self.bonus = 0\n",
    "        self.net_salary = 0\n",
    "\n",
    "    def get_empid(self):\n",
    "        return self.empid\n",
    "\n",
    "    def set_empid(self, empid):\n",
    "        self.empid = empid\n",
    "\n",
    "    def get_name(self):\n",
    "        return self.name\n",
    "\n",
    "    def set_name(self, name):\n",
    "        self.name = name\n",
    "\n",
    "    def get_basic_salary(self):\n",
    "        return self.basic_salary\n",
    "\n",
    "    def set_basic_salary(self, basic_salary):\n",
    "        self.basic_salary = basic_salary\n",
    "\n",
    "    def get_experience_years(self):\n",
    "        return self.experience_years\n",
    "\n",
    "    def set_experience_years(self, experience_years):\n",
    "        self.experience_years = experience_years\n",
    "\n",
    "    def calculate_hra(self):\n",
    "        self.hra = 0.35 * self.basic_salary\n",
    "\n",
    "    def calculate_da(self):\n",
    "        self.da = 0.58 * self.basic_salary\n",
    "\n",
    "    def calculate_pf(self):\n",
    "        self.pf = 0.095 * self.basic_salary\n",
    "\n",
    "    def calculate_bonus(self):\n",
    "        if self.experience_years >= 30:\n",
    "            self.bonus = 0.59 * self.basic_salary\n",
    "        elif self.experience_years >= 23:\n",
    "            self.bonus = 0.51 * self.basic_salary\n",
    "        elif self.experience_years >= 15:\n",
    "            self.bonus = 0.45 * self.basic_salary\n",
    "        elif self.experience_years >= 7:\n",
    "            self.bonus = 0.33 * self.basic_salary\n",
    "        else:\n",
    "            self.bonus = 0.16 * self.basic_salary\n",
    "\n",
    "    def calculate_net_salary(self):\n",
    "        self.net_salary = self.basic_salary + self.da + self.hra - self.pf + self.bonus\n",
    "\n",
    "\n",
    "if __name__ == \"__main__\":\n",
    "   \n",
    "    empid = input(\"Enter Employee ID: \")\n",
    "    name = input(\"Enter Employee Name: \")\n",
    "    basic_salary = float(input(\"Enter Basic Salary: \"))\n",
    "    experience_years = int(input(\"Enter Years of Experience: \"))\n",
    "\n",
    "    employee = Employee(empid, name, basic_salary, experience_years)\n",
    "\n",
    "    employee.calculate_hra()\n",
    "    employee.calculate_da()\n",
    "    employee.calculate_pf()\n",
    "    employee.calculate_bonus()\n",
    "    employee.calculate_net_salary()\n",
    "\n",
    "    print(\"\\nEmployee Details:\")\n",
    "    print(\"Employee ID:\", employee.get_empid())\n",
    "    print(\"Name:\", employee.get_name())\n",
    "    print(\"Basic Salary:\", employee.get_basic_salary())\n",
    "    print(\"Years of Experience:\", employee.get_experience_years())\n",
    "    print(\"\\nCalculated Components:\")\n",
    "    print(\"HRA:\", employee.hra)\n",
    "    print(\"DA:\", employee.da)\n",
    "    print(\"PF:\", employee.pf)\n",
    "    print(\"Bonus:\", employee.bonus)\n",
    "    print(\"\\nNet Salary:\", employee.net_salary)\n"
   ]
  },
  {
   "cell_type": "code",
   "execution_count": 14,
   "id": "2b2aab0e",
   "metadata": {},
   "outputs": [
    {
     "name": "stdin",
     "output_type": "stream",
     "text": [
      "Enter the number of elements in the list:  6\n"
     ]
    },
    {
     "name": "stdout",
     "output_type": "stream",
     "text": [
      "Enter 6 numbers:\n"
     ]
    },
    {
     "name": "stdin",
     "output_type": "stream",
     "text": [
      " 123456\n",
      " 1\n",
      " 2\n",
      " 3\n",
      " 4\n",
      " 5\n"
     ]
    },
    {
     "name": "stdout",
     "output_type": "stream",
     "text": [
      "\n",
      "Resulting Tuple:\n",
      "(5.0, 123461.0)\n"
     ]
    }
   ],
   "source": [
    "class NumberProcessor:\n",
    "    def __init__(self, n):\n",
    "        self.numbers = []\n",
    "        self.newlist = []\n",
    "        self.n = n\n",
    "\n",
    "    def input_numbers(self):\n",
    "        print(\"Enter {} numbers:\".format(self.n))\n",
    "        for _ in range(self.n):\n",
    "            num = float(input())\n",
    "            self.numbers.append(num)\n",
    "\n",
    "    def calculate_newlist(self):\n",
    "        for i in range(self.n // 2):\n",
    "            self.newlist.append(self.numbers[i] + self.numbers[self.n - i - 1])\n",
    "\n",
    "    def remove_duplicates(self):\n",
    "        self.newlist = list(set(self.newlist))\n",
    "\n",
    "    def convert_to_tuple(self):\n",
    "        self.newlist = tuple(self.newlist)\n",
    "\n",
    "    def display_result(self):\n",
    "        print(\"\\nResulting Tuple:\")\n",
    "        print(self.newlist)\n",
    "\n",
    "\n",
    "if __name__ == \"__main__\":\n",
    "    n = int(input(\"Enter the number of elements in the list: \"))\n",
    "    number_processor = NumberProcessor(n)\n",
    "    number_processor.input_numbers()\n",
    "    number_processor.calculate_newlist()\n",
    "    number_processor.remove_duplicates()\n",
    "    number_processor.convert_to_tuple()\n",
    "    number_processor.display_result()\n"
   ]
  },
  {
   "cell_type": "code",
   "execution_count": null,
   "id": "69589ad5",
   "metadata": {},
   "outputs": [],
   "source": []
  },
  {
   "cell_type": "code",
   "execution_count": 15,
   "id": "5bf2c641",
   "metadata": {},
   "outputs": [
    {
     "name": "stdin",
     "output_type": "stream",
     "text": [
      "Enter Employee ID:  220036\n",
      "Enter Employee Name:  rara\n",
      "Enter Basic Salary:  30000\n",
      "Enter Years of Experience:  5\n"
     ]
    },
    {
     "name": "stdout",
     "output_type": "stream",
     "text": [
      "\n",
      "Employee Details:\n",
      "Employee ID: 220036\n",
      "Employee Name: rara\n",
      "Basic Salary: 30000.0\n",
      "Years of Experience: 5\n",
      "Net Salary: 59850.0\n"
     ]
    }
   ],
   "source": [
    "def calculate_bonus(experience, basic_salary):\n",
    "    if experience >= 30:\n",
    "        bonus = 0.59 * basic_salary\n",
    "    elif experience >= 23:\n",
    "        bonus = 0.51 * basic_salary\n",
    "    elif experience >= 15:\n",
    "        bonus = 0.45 * basic_salary\n",
    "    elif experience >= 7:\n",
    "        bonus = 0.33 * basic_salary\n",
    "    else:\n",
    "        bonus = 0.16 * basic_salary\n",
    "    return bonus\n",
    "\n",
    "def calculate_netsalary(basic_salary, experience):\n",
    "    hra = 0.35 * basic_salary\n",
    "    da = 0.58 * basic_salary\n",
    "    pf = 0.095 * basic_salary\n",
    "    bonus = calculate_bonus(experience, basic_salary)\n",
    "    netsalary = basic_salary + hra + da - pf + bonus\n",
    "    return netsalary\n",
    "\n",
    "def main():\n",
    "    empid = input(\"Enter Employee ID: \")\n",
    "    name = input(\"Enter Employee Name: \")\n",
    "    basic_salary = float(input(\"Enter Basic Salary: \"))\n",
    "    experience = int(input(\"Enter Years of Experience: \"))\n",
    "\n",
    "    netsalary = calculate_netsalary(basic_salary, experience)\n",
    "\n",
    "    print(\"\\nEmployee Details:\")\n",
    "    print(\"Employee ID:\", empid)\n",
    "    print(\"Employee Name:\", name)\n",
    "    print(\"Basic Salary:\", basic_salary)\n",
    "    print(\"Years of Experience:\", experience)\n",
    "    print(\"Net Salary:\", netsalary)\n",
    "\n",
    "if __name__ == \"__main__\":\n",
    "    main()\n"
   ]
  },
  {
   "cell_type": "code",
   "execution_count": 17,
   "id": "3e071b2e",
   "metadata": {},
   "outputs": [
    {
     "name": "stdin",
     "output_type": "stream",
     "text": [
      "enter 1st no;  1\n",
      "enter 2nd no;  2\n"
     ]
    },
    {
     "name": "stdout",
     "output_type": "stream",
     "text": [
      "Addition is <__main__.MyNumber object at 0x000001CCE16E8810>\n",
      "1 raised to <__main__.MyNumber object at 0x000001CCE16EBED0>\n",
      "Concatenation answer is <__main__.MyNumber object at 0x000001CCE16E8810>\n",
      "Maximum is <__main__.MyNumber object at 0x000001CCE16EBED0>\n",
      "Minimum is <__main__.MyNumber object at 0x000001CCE16E8810>\n"
     ]
    }
   ],
   "source": [
    "class MyNumber:\n",
    "    def __init__(self, num=0):\n",
    "        self.num = num\n",
    "\n",
    "    def add(self, other):\n",
    "        result = MyNumber()\n",
    "        result.num = self.num + other.num\n",
    "        return result\n",
    "\n",
    "    def raised_to(self, other):\n",
    "        result = MyNumber()\n",
    "        result.num = self.num ** other.num\n",
    "        return result\n",
    "\n",
    "    def concat(self, other):\n",
    "        result = MyNumber()\n",
    "        result.num = int(str(self.num) + str(other.num))\n",
    "        return result\n",
    "\n",
    "    def max(self, other):\n",
    "        result = MyNumber()\n",
    "        result.num = max(self.num, other.num)\n",
    "        return result\n",
    "\n",
    "    def min(self, other):\n",
    "        result = MyNumber()\n",
    "        result.num = min(self.num, other.num)\n",
    "        return result\n",
    "\n",
    "\n",
    "if __name__ == \"__main__\":\n",
    "    n1 = MyNumber(int(input(\"enter 1st no; \")))\n",
    "    n2 = MyNumber(int(input(\"enter 2nd no; \")))\n",
    "\n",
    "    print(\"Addition is\", n1.add(n2))  \n",
    "    n3 = n1.raised_to(n2)\n",
    "    print(n1.num, \"raised to\", n1.raised_to(n2)) \n",
    "    n3 = n1.concat(n2)\n",
    "    print(\"Concatenation answer is\", n1.concat(n2))  \n",
    "    n3 = n1.max(n2)\n",
    "    print(\"Maximum is\", n1.max(n2)) \n",
    "    n3 = n1.min(n2)\n",
    "    print(\"Minimum is\", n1.min(n2))  \n"
   ]
  },
  {
   "cell_type": "code",
   "execution_count": 18,
   "id": "0fd0df7a",
   "metadata": {},
   "outputs": [
    {
     "name": "stdout",
     "output_type": "stream",
     "text": [
      "Addition is 7\n",
      "2 raised to 5 is 32\n",
      "Concatenation answer is 25\n",
      "Maximum is 5\n",
      "Minimum is 2\n"
     ]
    }
   ],
   "source": [
    "# Get set method:\n",
    "class MyNumber:\n",
    "    def __init__(self, num=0):\n",
    "        self.num = num\n",
    "\n",
    "    def set_num(self, num):\n",
    "        self.num = num\n",
    "\n",
    "    def get_num(self):\n",
    "        return self.num\n",
    "\n",
    "    def add(self, other):\n",
    "        result = MyNumber()\n",
    "        result.set_num(self.num + other.get_num())\n",
    "        return result\n",
    "\n",
    "    def raised_to(self, other):\n",
    "        result = MyNumber()\n",
    "        result.set_num(self.num ** other.get_num())\n",
    "        return result\n",
    "\n",
    "    def concat(self, other):\n",
    "        result = MyNumber()\n",
    "        result.set_num(int(str(self.num) + str(other.get_num())))\n",
    "        return result\n",
    "\n",
    "    def max(self, other):\n",
    "        result = MyNumber()\n",
    "        result.set_num(max(self.num, other.get_num()))\n",
    "        return result\n",
    "\n",
    "    def min(self, other):\n",
    "        result = MyNumber()\n",
    "        result.set_num(min(self.num, other.get_num()))\n",
    "        return result\n",
    "if __name__ == \"__main__\":\n",
    "    n1 = MyNumber(2)\n",
    "    n2 = MyNumber()\n",
    "    n2.set_num(5)\n",
    "    n3 = n1.add(n2)\n",
    "    print(\"Addition is\", n3.get_num())  # Output: 7\n",
    "    n3 = n1.raised_to(n2)\n",
    "    print(n1.get_num(), \"raised to\", n2.get_num(), \"is\", n3.get_num()) \n",
    "    n3 = n1.concat(n2)\n",
    "    print(\"Concatenation answer is\", n3.get_num()) \n",
    "    n3 = n1.max(n2)\n",
    "    print(\"Maximum is\", n3.get_num()) \n",
    "    n3 = n1.min(n2)\n",
    "    print(\"Minimum is\", n3.get_num()) "
   ]
  },
  {
   "cell_type": "code",
   "execution_count": 19,
   "id": "344b0dcc",
   "metadata": {},
   "outputs": [
    {
     "name": "stdin",
     "output_type": "stream",
     "text": [
      "Enter the Id: 220026\n"
     ]
    },
    {
     "name": "stdout",
     "output_type": "stream",
     "text": [
      "No data found\n",
      "No data found\n",
      "No data found\n",
      "No data found\n"
     ]
    }
   ],
   "source": [
    "\n",
    "data=[(12345,\"Diksha\",\"Dikshar@nuv.ac.in\"),(45667,\"Jiva\",\"Jiva@nuv.ac.in\"),(16789,\"Ronit\",\"Ronitd@nuv.ac.in\"),(69433,\"Heena\",\"Heena@nuv.ac.in\")]\n",
    "Id=int(input(\"Enter the Id:\"))\n",
    "for i in range(0,4):\n",
    "    if (Id == data[i][0]):\n",
    "        print[data][i]\n",
    "    else:\n",
    "        print(\"No data found\")\n",
    "            \n"
   ]
  },
  {
   "cell_type": "code",
   "execution_count": 19,
   "id": "5e36924a",
   "metadata": {},
   "outputs": [
    {
     "name": "stdout",
     "output_type": "stream",
     "text": [
      "Enter the 1st no.: 431\n",
      "Enter the 2nd no.: 2412\n",
      "Your Addition is  2843\n"
     ]
    }
   ],
   "source": [
    "class number:\n",
    "    def __init__(self,num):\n",
    "        self.num = num\n",
    "    def add(self,other):\n",
    "        return self.num + other.num\n",
    "    \n",
    "n1 = number(int(input(\"Enter the 1st no.: \")))\n",
    "n2 = number(int(input(\"Enter the 2nd no.: \")))\n",
    "print(\"Your Addition is \",n1.add(n2))"
   ]
  },
  {
   "cell_type": "code",
   "execution_count": 20,
   "id": "7fcafc9d",
   "metadata": {},
   "outputs": [
    {
     "name": "stdout",
     "output_type": "stream",
     "text": [
      "Enter ID: 123\n",
      "Enter the Name: leo\n",
      "Enter your Email address: fhbqsfhahf\n",
      "Error\n",
      "Error\n",
      "Error\n",
      "Error\n",
      "Not found.\n"
     ]
    }
   ],
   "source": [
    " data = [(12345, \"Diksha\", \"Dikshar@nuv.ac.in\"),(45667, \"Jiva\", \"Jiva@nuv.ac.in\"),(16789, \"Ronit\", \"Ronitd@nuv.ac.in\"),(69433, \"Heena\", \"Heena@nuv.ac.in\")]\n",
    "def search_data(id, data):\n",
    "    for entry in data:\n",
    "        if entry[0] == id:\n",
    "            return entry\n",
    "        elif entry[1]== name:\n",
    "            return entry\n",
    "        elif entry[2] == email:\n",
    "            return entry\n",
    "        else:\n",
    "            print(\"Error\")\n",
    "            \n",
    "            \n",
    "id = int(input(\"Enter ID: \"))\n",
    "name = input(\"Enter the Name: \")\n",
    "email= input(\"Enter your Email address: \")\n",
    "result = search_data(id, data)\n",
    "if result:\n",
    "    print(f\"ID: {result[0]}, Name: {result[1]}, Email: {result[2]}\")\n",
    "else:\n",
    "    print(\"Not found.\")"
   ]
  },
  {
   "cell_type": "markdown",
   "id": "dc488c79",
   "metadata": {},
   "source": [
    "#### "
   ]
  },
  {
   "cell_type": "code",
   "execution_count": 31,
   "id": "0f6817a9",
   "metadata": {},
   "outputs": [
    {
     "data": {
      "text/plain": [
       "{'en': [12345, 45667, 16789, 69433],\n",
       " 'Name': ['Diksha', 'Jiva', 'Ronit', 'Heena'],\n",
       " 'Email': ['Dikshar@nuv.ac.in',\n",
       "  'Jiva@nuv.ac.in',\n",
       "  'Ronitd@nuv.ac.in',\n",
       "  'Heena@nuv.ac.in']}"
      ]
     },
     "execution_count": 31,
     "metadata": {},
     "output_type": "execute_result"
    }
   ],
   "source": [
    " data = [(12345, \"Diksha\", \"Dikshar@nuv.ac.in\"),(45667, \"Jiva\", \"Jiva@nuv.ac.in\"),(16789, \"Ronit\", \"Ronitd@nuv.ac.in\"),(69433, \"Heena\", \"Heena@nuv.ac.in\")]\n",
    "\n",
    "\n",
    "mydict={\"en\":[],\"Name\":[],\"Email\":[]}\n",
    "\n",
    "for d in data:\n",
    "    mydict[\"en\"].append(d[0])\n",
    "    mydict[\"Name\"].append(d[1])\n",
    "    mydict[\"Email\"].append(d[2])\n",
    "    \n",
    "mydict\n",
    "    "
   ]
  },
  {
   "cell_type": "code",
   "execution_count": null,
   "id": "a64fd7b6",
   "metadata": {},
   "outputs": [],
   "source": [
    "#List comprehension:\n",
    "\n",
    "data = [(12345, \"Diksha\", \"Dikshar@nuv.ac.in\"),\n",
    "        (45667, \"Jiva\", \"Jiva@nuv.ac.in\"),\n",
    "        (16789, \"Ronit\", \"Ronitd@nuv.ac.in\"),\n",
    "        (69433, \"Heena\", \"Heena@nuv.ac.in\")]\n",
    "\n",
    "mydict={\"Enroll\":[d[0]for d in data],\n",
    "        \"Name\":[d[1]for d in data],\n",
    "        \"Email\":[d[2]for d in data]}\n",
    "mydict\n",
    "print(f\"{'Enroll':<25}{'Name':<25}{'Email':<25}\")\n",
    "print(\"____________________________________________________________________\")\n",
    "print()\n",
    "for i in range(len(mydict[\"Enroll\"])):\n",
    "    print(f'{mydict[\"Enroll\"][i]:<25}{mydict[\"Name\"][i]:<25}{mydict[\"Email\"][i]:<25}')\n",
    "    print()"
   ]
  },
  {
   "cell_type": "code",
   "execution_count": null,
   "id": "d33f15e9",
   "metadata": {},
   "outputs": [],
   "source": [
    "#A data.csv file has following data(stateid, name, population in crores, No. of Universites,\n",
    "#___________data.csv___________\n",
    "#12001, Gujarat, 10,29,12002,Maharashtra, 19,36,12003,Rajasthan, 13,31,12004,Madhya\n",
    "#Pradesh,14,21,12005,Punjab,12,13,12006,Karnataka,23,31,12007,Tamilnadu,25,29,1208,Kerala,21,15-I.\n",
    "#______________________________\n",
    "\n",
    "#Read data.cv file. Transfer data to data structure like\n",
    "#followingStates={\n",
    "#   12001: {\"name\". \"Gujarat\", \"population\": 10, \"no_of uni\":20},\n",
    "#   12002: {\"name\" \"Maharashtra\", \"population\": 19,\"no of uni\":36}\n",
    "#}\n",
    "#Using this data, construct dictionary in following manner.\n",
    "#import json\n",
    "#To write any object to python fw=open(\"students.json\",\"w\")\n",
    "#jsndata = json, dumps(dictionary of students details)#dumps converts dictionary to json\n",
    "#fw. write(jsndata)\n",
    "#To read any json object from file fr-open(\"students.json\".\"r\")\n",
    "#allStudents-json.load(fr) #reads whole file and returns the data.\n",
    "\n",
    "\n",
    "\n",
    "import json\n",
    "\n",
    "followingStates = {\n",
    "    12001: {\"name\": \"Gujarat\", \"population\": 10, \"no_of_uni\": 20},\n",
    "    12002: {\"name\": \"Maharashtra\", \"population\": 19, \"no_of_uni\": 36},\n",
    "    12003: {\"name\": \"Madhya Pradesh\", \"population\": 17, \"no_of_uni\": 20},\n",
    "    12004: {\"name\": \"Chandigadh\", \"population\": 17, \"no_of_uni\": 40},\n",
    "    12005: {\"name\": \"Rajasthan\", \"population\": 15, \"no_of_uni\": 30},\n",
    "    12006: {\"name\": \"Punjab\", \"population\": 15, \"no_of_uni\": 60},\n",
    "    12007: {\"name\": \"Delhi\", \"population\": 14, \"no_of_uni\": 70},\n",
    "    12008: {\"name\": \"Goa\", \"population\": 13, \"no_of_uni\": 60},\n",
    "    12009: {\"name\": \"Tamil Nadu\", \"population\": 12, \"no_of_uni\": 32},\n",
    "    12010: {\"name\": \"Chennai\", \"population\": 11, \"no_of_uni\": 23},\n",
    "    120011: {\"name\": \"Jammu and Kashmir\", \"population\": 10, \"no_of_uni\": 41},\n",
    "    \n",
    "}\n",
    "\n",
    "with open(\"following_states.json\", \"w\") as fw:\n",
    "    json.dump(followingStates, fw)\n",
    "\n",
    "print(\"Following States Dictionary:\")\n",
    "print(followingStates)\n",
    "\n",
    "with open(\"following_states.json\", \"r\") as fr:\n",
    "    all_states = json.load(fr)\n",
    "\n",
    "print(\"\\nAll States:\")\n",
    "print(all_states)\n"
   ]
  },
  {
   "cell_type": "code",
   "execution_count": 32,
   "id": "df2923dc",
   "metadata": {},
   "outputs": [
    {
     "ename": "FileNotFoundError",
     "evalue": "[Errno 2] No such file or directory: 'data.csv'",
     "output_type": "error",
     "traceback": [
      "\u001b[1;31m---------------------------------------------------------------------------\u001b[0m",
      "\u001b[1;31mFileNotFoundError\u001b[0m                         Traceback (most recent call last)",
      "Cell \u001b[1;32mIn[32], line 2\u001b[0m\n\u001b[0;32m      1\u001b[0m \u001b[38;5;28;01mimport\u001b[39;00m \u001b[38;5;21;01mpandas\u001b[39;00m \u001b[38;5;28;01mas\u001b[39;00m \u001b[38;5;21;01mpd\u001b[39;00m\n\u001b[1;32m----> 2\u001b[0m df\u001b[38;5;241m=\u001b[39mpd\u001b[38;5;241m.\u001b[39mread_csv(\u001b[38;5;124m'\u001b[39m\u001b[38;5;124mdata.csv\u001b[39m\u001b[38;5;124m'\u001b[39m)\n\u001b[0;32m      3\u001b[0m key\u001b[38;5;241m=\u001b[39m\u001b[38;5;28mlist\u001b[39m(df\u001b[38;5;241m.\u001b[39mkeys())\n\u001b[0;32m      4\u001b[0m \u001b[38;5;28mprint\u001b[39m(key)\n",
      "File \u001b[1;32m~\\anaconda3\\Lib\\site-packages\\pandas\\io\\parsers\\readers.py:948\u001b[0m, in \u001b[0;36mread_csv\u001b[1;34m(filepath_or_buffer, sep, delimiter, header, names, index_col, usecols, dtype, engine, converters, true_values, false_values, skipinitialspace, skiprows, skipfooter, nrows, na_values, keep_default_na, na_filter, verbose, skip_blank_lines, parse_dates, infer_datetime_format, keep_date_col, date_parser, date_format, dayfirst, cache_dates, iterator, chunksize, compression, thousands, decimal, lineterminator, quotechar, quoting, doublequote, escapechar, comment, encoding, encoding_errors, dialect, on_bad_lines, delim_whitespace, low_memory, memory_map, float_precision, storage_options, dtype_backend)\u001b[0m\n\u001b[0;32m    935\u001b[0m kwds_defaults \u001b[38;5;241m=\u001b[39m _refine_defaults_read(\n\u001b[0;32m    936\u001b[0m     dialect,\n\u001b[0;32m    937\u001b[0m     delimiter,\n\u001b[1;32m   (...)\u001b[0m\n\u001b[0;32m    944\u001b[0m     dtype_backend\u001b[38;5;241m=\u001b[39mdtype_backend,\n\u001b[0;32m    945\u001b[0m )\n\u001b[0;32m    946\u001b[0m kwds\u001b[38;5;241m.\u001b[39mupdate(kwds_defaults)\n\u001b[1;32m--> 948\u001b[0m \u001b[38;5;28;01mreturn\u001b[39;00m _read(filepath_or_buffer, kwds)\n",
      "File \u001b[1;32m~\\anaconda3\\Lib\\site-packages\\pandas\\io\\parsers\\readers.py:611\u001b[0m, in \u001b[0;36m_read\u001b[1;34m(filepath_or_buffer, kwds)\u001b[0m\n\u001b[0;32m    608\u001b[0m _validate_names(kwds\u001b[38;5;241m.\u001b[39mget(\u001b[38;5;124m\"\u001b[39m\u001b[38;5;124mnames\u001b[39m\u001b[38;5;124m\"\u001b[39m, \u001b[38;5;28;01mNone\u001b[39;00m))\n\u001b[0;32m    610\u001b[0m \u001b[38;5;66;03m# Create the parser.\u001b[39;00m\n\u001b[1;32m--> 611\u001b[0m parser \u001b[38;5;241m=\u001b[39m TextFileReader(filepath_or_buffer, \u001b[38;5;241m*\u001b[39m\u001b[38;5;241m*\u001b[39mkwds)\n\u001b[0;32m    613\u001b[0m \u001b[38;5;28;01mif\u001b[39;00m chunksize \u001b[38;5;129;01mor\u001b[39;00m iterator:\n\u001b[0;32m    614\u001b[0m     \u001b[38;5;28;01mreturn\u001b[39;00m parser\n",
      "File \u001b[1;32m~\\anaconda3\\Lib\\site-packages\\pandas\\io\\parsers\\readers.py:1448\u001b[0m, in \u001b[0;36mTextFileReader.__init__\u001b[1;34m(self, f, engine, **kwds)\u001b[0m\n\u001b[0;32m   1445\u001b[0m     \u001b[38;5;28mself\u001b[39m\u001b[38;5;241m.\u001b[39moptions[\u001b[38;5;124m\"\u001b[39m\u001b[38;5;124mhas_index_names\u001b[39m\u001b[38;5;124m\"\u001b[39m] \u001b[38;5;241m=\u001b[39m kwds[\u001b[38;5;124m\"\u001b[39m\u001b[38;5;124mhas_index_names\u001b[39m\u001b[38;5;124m\"\u001b[39m]\n\u001b[0;32m   1447\u001b[0m \u001b[38;5;28mself\u001b[39m\u001b[38;5;241m.\u001b[39mhandles: IOHandles \u001b[38;5;241m|\u001b[39m \u001b[38;5;28;01mNone\u001b[39;00m \u001b[38;5;241m=\u001b[39m \u001b[38;5;28;01mNone\u001b[39;00m\n\u001b[1;32m-> 1448\u001b[0m \u001b[38;5;28mself\u001b[39m\u001b[38;5;241m.\u001b[39m_engine \u001b[38;5;241m=\u001b[39m \u001b[38;5;28mself\u001b[39m\u001b[38;5;241m.\u001b[39m_make_engine(f, \u001b[38;5;28mself\u001b[39m\u001b[38;5;241m.\u001b[39mengine)\n",
      "File \u001b[1;32m~\\anaconda3\\Lib\\site-packages\\pandas\\io\\parsers\\readers.py:1705\u001b[0m, in \u001b[0;36mTextFileReader._make_engine\u001b[1;34m(self, f, engine)\u001b[0m\n\u001b[0;32m   1703\u001b[0m     \u001b[38;5;28;01mif\u001b[39;00m \u001b[38;5;124m\"\u001b[39m\u001b[38;5;124mb\u001b[39m\u001b[38;5;124m\"\u001b[39m \u001b[38;5;129;01mnot\u001b[39;00m \u001b[38;5;129;01min\u001b[39;00m mode:\n\u001b[0;32m   1704\u001b[0m         mode \u001b[38;5;241m+\u001b[39m\u001b[38;5;241m=\u001b[39m \u001b[38;5;124m\"\u001b[39m\u001b[38;5;124mb\u001b[39m\u001b[38;5;124m\"\u001b[39m\n\u001b[1;32m-> 1705\u001b[0m \u001b[38;5;28mself\u001b[39m\u001b[38;5;241m.\u001b[39mhandles \u001b[38;5;241m=\u001b[39m get_handle(\n\u001b[0;32m   1706\u001b[0m     f,\n\u001b[0;32m   1707\u001b[0m     mode,\n\u001b[0;32m   1708\u001b[0m     encoding\u001b[38;5;241m=\u001b[39m\u001b[38;5;28mself\u001b[39m\u001b[38;5;241m.\u001b[39moptions\u001b[38;5;241m.\u001b[39mget(\u001b[38;5;124m\"\u001b[39m\u001b[38;5;124mencoding\u001b[39m\u001b[38;5;124m\"\u001b[39m, \u001b[38;5;28;01mNone\u001b[39;00m),\n\u001b[0;32m   1709\u001b[0m     compression\u001b[38;5;241m=\u001b[39m\u001b[38;5;28mself\u001b[39m\u001b[38;5;241m.\u001b[39moptions\u001b[38;5;241m.\u001b[39mget(\u001b[38;5;124m\"\u001b[39m\u001b[38;5;124mcompression\u001b[39m\u001b[38;5;124m\"\u001b[39m, \u001b[38;5;28;01mNone\u001b[39;00m),\n\u001b[0;32m   1710\u001b[0m     memory_map\u001b[38;5;241m=\u001b[39m\u001b[38;5;28mself\u001b[39m\u001b[38;5;241m.\u001b[39moptions\u001b[38;5;241m.\u001b[39mget(\u001b[38;5;124m\"\u001b[39m\u001b[38;5;124mmemory_map\u001b[39m\u001b[38;5;124m\"\u001b[39m, \u001b[38;5;28;01mFalse\u001b[39;00m),\n\u001b[0;32m   1711\u001b[0m     is_text\u001b[38;5;241m=\u001b[39mis_text,\n\u001b[0;32m   1712\u001b[0m     errors\u001b[38;5;241m=\u001b[39m\u001b[38;5;28mself\u001b[39m\u001b[38;5;241m.\u001b[39moptions\u001b[38;5;241m.\u001b[39mget(\u001b[38;5;124m\"\u001b[39m\u001b[38;5;124mencoding_errors\u001b[39m\u001b[38;5;124m\"\u001b[39m, \u001b[38;5;124m\"\u001b[39m\u001b[38;5;124mstrict\u001b[39m\u001b[38;5;124m\"\u001b[39m),\n\u001b[0;32m   1713\u001b[0m     storage_options\u001b[38;5;241m=\u001b[39m\u001b[38;5;28mself\u001b[39m\u001b[38;5;241m.\u001b[39moptions\u001b[38;5;241m.\u001b[39mget(\u001b[38;5;124m\"\u001b[39m\u001b[38;5;124mstorage_options\u001b[39m\u001b[38;5;124m\"\u001b[39m, \u001b[38;5;28;01mNone\u001b[39;00m),\n\u001b[0;32m   1714\u001b[0m )\n\u001b[0;32m   1715\u001b[0m \u001b[38;5;28;01massert\u001b[39;00m \u001b[38;5;28mself\u001b[39m\u001b[38;5;241m.\u001b[39mhandles \u001b[38;5;129;01mis\u001b[39;00m \u001b[38;5;129;01mnot\u001b[39;00m \u001b[38;5;28;01mNone\u001b[39;00m\n\u001b[0;32m   1716\u001b[0m f \u001b[38;5;241m=\u001b[39m \u001b[38;5;28mself\u001b[39m\u001b[38;5;241m.\u001b[39mhandles\u001b[38;5;241m.\u001b[39mhandle\n",
      "File \u001b[1;32m~\\anaconda3\\Lib\\site-packages\\pandas\\io\\common.py:863\u001b[0m, in \u001b[0;36mget_handle\u001b[1;34m(path_or_buf, mode, encoding, compression, memory_map, is_text, errors, storage_options)\u001b[0m\n\u001b[0;32m    858\u001b[0m \u001b[38;5;28;01melif\u001b[39;00m \u001b[38;5;28misinstance\u001b[39m(handle, \u001b[38;5;28mstr\u001b[39m):\n\u001b[0;32m    859\u001b[0m     \u001b[38;5;66;03m# Check whether the filename is to be opened in binary mode.\u001b[39;00m\n\u001b[0;32m    860\u001b[0m     \u001b[38;5;66;03m# Binary mode does not support 'encoding' and 'newline'.\u001b[39;00m\n\u001b[0;32m    861\u001b[0m     \u001b[38;5;28;01mif\u001b[39;00m ioargs\u001b[38;5;241m.\u001b[39mencoding \u001b[38;5;129;01mand\u001b[39;00m \u001b[38;5;124m\"\u001b[39m\u001b[38;5;124mb\u001b[39m\u001b[38;5;124m\"\u001b[39m \u001b[38;5;129;01mnot\u001b[39;00m \u001b[38;5;129;01min\u001b[39;00m ioargs\u001b[38;5;241m.\u001b[39mmode:\n\u001b[0;32m    862\u001b[0m         \u001b[38;5;66;03m# Encoding\u001b[39;00m\n\u001b[1;32m--> 863\u001b[0m         handle \u001b[38;5;241m=\u001b[39m \u001b[38;5;28mopen\u001b[39m(\n\u001b[0;32m    864\u001b[0m             handle,\n\u001b[0;32m    865\u001b[0m             ioargs\u001b[38;5;241m.\u001b[39mmode,\n\u001b[0;32m    866\u001b[0m             encoding\u001b[38;5;241m=\u001b[39mioargs\u001b[38;5;241m.\u001b[39mencoding,\n\u001b[0;32m    867\u001b[0m             errors\u001b[38;5;241m=\u001b[39merrors,\n\u001b[0;32m    868\u001b[0m             newline\u001b[38;5;241m=\u001b[39m\u001b[38;5;124m\"\u001b[39m\u001b[38;5;124m\"\u001b[39m,\n\u001b[0;32m    869\u001b[0m         )\n\u001b[0;32m    870\u001b[0m     \u001b[38;5;28;01melse\u001b[39;00m:\n\u001b[0;32m    871\u001b[0m         \u001b[38;5;66;03m# Binary mode\u001b[39;00m\n\u001b[0;32m    872\u001b[0m         handle \u001b[38;5;241m=\u001b[39m \u001b[38;5;28mopen\u001b[39m(handle, ioargs\u001b[38;5;241m.\u001b[39mmode)\n",
      "\u001b[1;31mFileNotFoundError\u001b[0m: [Errno 2] No such file or directory: 'data.csv'"
     ]
    }
   ],
   "source": [
    "import pandas as pd\n",
    "df=pd.read_csv('data.csv')\n",
    "key=list(df.keys())\n",
    "print(key)"
   ]
  },
  {
   "cell_type": "code",
   "execution_count": null,
   "id": "74113b39",
   "metadata": {},
   "outputs": [],
   "source": [
    "import pandas as pd\n",
    "df=pd.read_csv('data.csv')\n",
    "key=list(df.keys())\n",
    "value=list(df.values)\n",
    "\n",
    "states={}\n",
    "for lst in value:\n",
    "    states[lst[0]]={\n",
    "       key[1]:lst[1]}\n",
    "df"
   ]
  },
  {
   "cell_type": "code",
   "execution_count": null,
   "id": "23cdf5b8",
   "metadata": {},
   "outputs": [],
   "source": []
  }
 ],
 "metadata": {
  "kernelspec": {
   "display_name": "Python 3 (ipykernel)",
   "language": "python",
   "name": "python3"
  },
  "language_info": {
   "codemirror_mode": {
    "name": "ipython",
    "version": 3
   },
   "file_extension": ".py",
   "mimetype": "text/x-python",
   "name": "python",
   "nbconvert_exporter": "python",
   "pygments_lexer": "ipython3",
   "version": "3.11.7"
  }
 },
 "nbformat": 4,
 "nbformat_minor": 5
}
